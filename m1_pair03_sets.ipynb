{
 "cells": [
  {
   "cell_type": "code",
   "execution_count": 3,
   "metadata": {},
   "outputs": [
    {
     "name": "stdout",
     "output_type": "stream",
     "text": [
      "{1, 2, 3, 4, 5, 6}\n",
      "{1, 2, 3, 4, 5, 6, 7, 8}\n"
     ]
    }
   ],
   "source": [
    "#Ejercicios sets\n",
    "#1. Crear un conjunto vacío\n",
    "#Descripción: Crea un conjunto vacío sin ningún elemento.\n",
    "\n",
    "exercice = set()\n",
    "\n",
    "#2. Crear un conjunto con elementos\n",
    "#Descripción: Crea un conjunto con elementos predefinidos.\n",
    "\n",
    "exercice2 = {1, 2, 3, 4, 5}\n",
    "\n",
    "#3. Agregar elementos a un conjunto\n",
    "#Descripción: Usando el set creado en el ejercicio 2, agrega nuevos elementos. Debereis agregar por separado:\n",
    "#Un elemento solo\n",
    "#Un par de elementos a la vez.\n",
    "\n",
    "exercice2.update({6})\n",
    "print(exercice2)\n",
    "\n",
    "exercice2.update({7, 8})\n",
    "print(exercice2)\n",
    "\n",
    "\n"
   ]
  },
  {
   "cell_type": "code",
   "execution_count": 6,
   "metadata": {},
   "outputs": [
    {
     "name": "stdout",
     "output_type": "stream",
     "text": [
      "{1, 2, 4, 5, 6, 7, 8}\n"
     ]
    }
   ],
   "source": [
    "#4. Eliminar un elemento de un conjunto\n",
    "#Descripción: Usando el set creado en el ejercicio 2, elimina un elemento especificado por el usuario.\n",
    "\n",
    "exercice2.remove(3)\n",
    "print(exercice2)"
   ]
  },
  {
   "cell_type": "code",
   "execution_count": 7,
   "metadata": {},
   "outputs": [
    {
     "data": {
      "text/plain": [
       "True"
      ]
     },
     "execution_count": 7,
     "metadata": {},
     "output_type": "execute_result"
    }
   ],
   "source": [
    "#5. Verificar la pertenencia de un elemento en un conjunto\n",
    "#Descripción: Usando el set creado en el ejercicio 2, verifica si un elemento específico está presente en él.\n",
    "\n",
    "2 in exercice2"
   ]
  },
  {
   "cell_type": "code",
   "execution_count": 8,
   "metadata": {},
   "outputs": [
    {
     "name": "stdout",
     "output_type": "stream",
     "text": [
      "{1, 2, 4, 5, 6, 7, 8}\n",
      "{5, 6, 8, 9, 14}\n",
      "{1, 2, 4, 5, 6, 7, 8, 9, 14}\n"
     ]
    }
   ],
   "source": [
    "#6. Realizar una unión de conjuntos\n",
    "#Descripción: Dados dos conjuntos, realiza una unión de ellos.\n",
    "\n",
    "exercice3 = {5, 6, 8, 14, 9, 5, 5}\n",
    "print(exercice2)\n",
    "print(exercice3)\n",
    "print (exercice2 | exercice3)"
   ]
  },
  {
   "cell_type": "code",
   "execution_count": 10,
   "metadata": {},
   "outputs": [
    {
     "name": "stdout",
     "output_type": "stream",
     "text": [
      "{1, 2, 4, 5, 6, 7, 8}\n",
      "{5, 6, 8, 9, 14}\n",
      "{8, 5, 6}\n"
     ]
    }
   ],
   "source": [
    "#7. Realizar una intersección de conjuntos\n",
    "#Descripción: Usando dos conjuntos de datos definidos en el ejercicio anterior, realiza una intersección de ellos.\n",
    "\n",
    "print(exercice2)\n",
    "print(exercice3)\n",
    "print (exercice2 & exercice3)"
   ]
  },
  {
   "cell_type": "code",
   "execution_count": 11,
   "metadata": {},
   "outputs": [
    {
     "name": "stdout",
     "output_type": "stream",
     "text": [
      "{1, 2, 4, 5, 6, 7, 8}\n",
      "{5, 6, 8, 9, 14}\n",
      "{1, 2, 4, 7}\n"
     ]
    }
   ],
   "source": [
    "#8. Realizar una diferencia de conjuntos\n",
    "#Descripción: Usando dos conjuntos de datos definidos en el ejercicio anterior, realiza una diferencia entre ellos.\n",
    "\n",
    "print(exercice2)\n",
    "print(exercice3)\n",
    "print (exercice2 - exercice3)"
   ]
  },
  {
   "cell_type": "code",
   "execution_count": 12,
   "metadata": {},
   "outputs": [
    {
     "name": "stdout",
     "output_type": "stream",
     "text": [
      "{1, 2, 4, 5, 6, 7, 8}\n",
      "{5, 6, 8, 9, 14}\n",
      "False\n",
      "False\n"
     ]
    }
   ],
   "source": [
    "#9. Verificar si un conjunto es subconjunto de otro\n",
    "#Descripción: Dados dos conjuntos, verifica si uno es subconjunto del otro.\n",
    "\n",
    "print(exercice2)\n",
    "print(exercice3)\n",
    "print (exercice2 <= exercice3)\n",
    "print (exercice3 <= exercice2)"
   ]
  }
 ],
 "metadata": {
  "kernelspec": {
   "display_name": "base",
   "language": "python",
   "name": "python3"
  },
  "language_info": {
   "codemirror_mode": {
    "name": "ipython",
    "version": 3
   },
   "file_extension": ".py",
   "mimetype": "text/x-python",
   "name": "python",
   "nbconvert_exporter": "python",
   "pygments_lexer": "ipython3",
   "version": "3.12.7"
  }
 },
 "nbformat": 4,
 "nbformat_minor": 2
}
