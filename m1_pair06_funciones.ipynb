{
 "cells": [
  {
   "cell_type": "code",
   "execution_count": 10,
   "metadata": {},
   "outputs": [],
   "source": [
    "#Ejercicios de funciones\n",
    "\n",
    "#1, Calcular el área de un círculo.\n",
    "#Descripción: Crea una función llamada calcular_area_circulo que tome el radio como parámetro y devuelva el área del círculo.\n",
    "\n",
    "\n",
    "def calcular_area_circulo(radio):\n",
    "\n",
    "    area = 3.1416*radio**2\n",
    "    return area\n",
    "\n"
   ]
  },
  {
   "cell_type": "code",
   "execution_count": 11,
   "metadata": {},
   "outputs": [
    {
     "data": {
      "text/plain": [
       "12.5664"
      ]
     },
     "execution_count": 11,
     "metadata": {},
     "output_type": "execute_result"
    }
   ],
   "source": [
    "calcular_area_circulo(2)"
   ]
  },
  {
   "cell_type": "code",
   "execution_count": null,
   "metadata": {},
   "outputs": [],
   "source": [
    "#2. Contar la cantidad de caracteres en una cadena.\n",
    "#Descripción: Crea una función llamada contar_caracteres que tome una cadena como parámetro y devuelva la cantidad de caracteres que contiene.\n",
    "\n",
    "def contar_caracteres(cadena):\n",
    "    \n",
    "    contar = len(cadena.replace(\" \",\"\"))\n",
    "    print(cadena)\n",
    "    return contar\n"
   ]
  },
  {
   "cell_type": "code",
   "execution_count": 13,
   "metadata": {},
   "outputs": [
    {
     "name": "stdout",
     "output_type": "stream",
     "text": [
      "Estoesunacadenadetexto\n"
     ]
    }
   ],
   "source": [
    "cadena = \"Esto es una cadena de texto\"\n",
    "\n",
    "print(cadena.replace(\" \",\"\"))\n"
   ]
  },
  {
   "cell_type": "code",
   "execution_count": null,
   "metadata": {},
   "outputs": [],
   "source": [
    "#3. Determinar si una cadena es un palíndromo.\n",
    "#Descripción: Crea una función llamada es_palindromo que tome una cadena como parámetro y devuelva True si es un palíndromo, o False si no lo es.\n",
    "\n",
    "#¿Qué es un palíndromo?.\n",
    "\n",
    "def es_palindromo(cadena):\n",
    "    cadena1 = list(cadena.replace(\" \",\"\").lower())\n",
    "    cadena2 = cadena1.copy()\n",
    "    cadena2.reverse\n",
    "\n",
    "    if cadena1 == cadena2:\n",
    "        respuesta = True\n",
    "        \n",
    "    else: \n",
    "        respuesta = False\n",
    "    \n",
    "    return respuesta\n"
   ]
  },
  {
   "cell_type": "code",
   "execution_count": 17,
   "metadata": {},
   "outputs": [],
   "source": [
    "def es_palandrama(palabra):\n",
    "    print(palabra[::-1])\n",
    "    return palabra == palabra[::-1]\n",
    "    \n",
    "    "
   ]
  },
  {
   "cell_type": "code",
   "execution_count": 18,
   "metadata": {},
   "outputs": [
    {
     "data": {
      "text/plain": [
       "True"
      ]
     },
     "execution_count": 18,
     "metadata": {},
     "output_type": "execute_result"
    }
   ],
   "source": [
    "es_palindromo(\"oso\")"
   ]
  },
  {
   "cell_type": "code",
   "execution_count": 19,
   "metadata": {},
   "outputs": [
    {
     "name": "stdout",
     "output_type": "stream",
     "text": [
      "True\n"
     ]
    }
   ],
   "source": [
    "cadena = \"Tabale arroz a la zorra el abad\"\n",
    "\n",
    "print (es_palindromo(cadena))"
   ]
  },
  {
   "cell_type": "code",
   "execution_count": 20,
   "metadata": {},
   "outputs": [],
   "source": [
    "#4. Calcular el promedio de una lista de números.\n",
    "#Descripción: Crea una función llamada calcular_promedio que tome una lista de números como parámetro y devuelva el promedio de todos sus elementos.\n",
    "\n",
    "def calcular_promedio(lista_numeros):\n",
    "    return sum(lista_numeros)/len(lista_numeros)\n"
   ]
  },
  {
   "cell_type": "code",
   "execution_count": 21,
   "metadata": {},
   "outputs": [
    {
     "name": "stdout",
     "output_type": "stream",
     "text": [
      "2.0\n"
     ]
    }
   ],
   "source": [
    "print(calcular_promedio([1,2,3]))"
   ]
  },
  {
   "cell_type": "code",
   "execution_count": 9,
   "metadata": {},
   "outputs": [
    {
     "name": "stdout",
     "output_type": "stream",
     "text": [
      "['d', 'a', 'b', 'a', 'l', 'e', 'a', 'r', 'r', 'o', 'z', 'a', 'l', 'a', 'z', 'o', 'r', 'r', 'a', 'e', 'l', 'a', 'b', 'a', 'd']\n",
      "['d', 'a', 'b', 'a', 'l', 'e', 'a', 'r', 'r', 'o', 'z', 'a', 'l', 'a', 'z', 'o', 'r', 'r', 'a', 'e', 'l', 'a', 'b', 'a', 'd']\n",
      "True\n"
     ]
    }
   ],
   "source": [
    "cadena = \"dabale arroz a la zorra el abad\"\n",
    "\n",
    "cadena1 = list(cadena.replace(\" \", \"\").lower())\n",
    "\n",
    "cadena2 = cadena1.copy()\n",
    "cadena2.reverse()\n",
    "\n",
    "print(cadena1)\n",
    "print(cadena2)\n",
    "\n",
    "if cadena2 == cadena1:\n",
    "    print(True)\n"
   ]
  },
  {
   "cell_type": "code",
   "execution_count": 28,
   "metadata": {},
   "outputs": [
    {
     "name": "stdout",
     "output_type": "stream",
     "text": [
      "True\n",
      "False\n"
     ]
    }
   ],
   "source": [
    "lista=list(\"palabra\")\n",
    "conteo=[]\n",
    "for i in lista:\n",
    "    conteo.append(lista.count(i))\n",
    "for j in conteo:    \n",
    "        if j != 1:\n",
    "            print(False)\n",
    "            break\n",
    "        else:\n",
    "            print(True)"
   ]
  },
  {
   "cell_type": "code",
   "execution_count": null,
   "metadata": {},
   "outputs": [
    {
     "name": "stdout",
     "output_type": "stream",
     "text": [
      "True\n",
      "10\n",
      "10\n"
     ]
    }
   ],
   "source": [
    "def es_isograma(cadena):\n",
    "    lista=list(cadena)\n",
    "    conteo=0\n",
    "    for i in lista:\n",
    "        conteo += (lista.count(i))\n",
    "    if conteo > len(lista):\n",
    "        print(conteo)\n",
    "        print(len(lista))\n",
    "        return False\n",
    "    else: \n",
    "        print(conteo)\n",
    "        print(len(lista))\n",
    "        return True"
   ]
  },
  {
   "cell_type": "code",
   "execution_count": 36,
   "metadata": {},
   "outputs": [],
   "source": [
    "# 5. Calcular el interés compuesto.\n",
    "#Descripción: Crea una función llamada calcular_interes_compuesto que tome el capital inicial, \n",
    "# la tasa de interés y el número de períodos como parámetros y devuelva el beneficio final después del interés compuesto.\n",
    "\n",
    "def calcular_interes_compuesto(capital_inicial , tasa_interes , tiempo_en_años):\n",
    "    beneficio_final = round((capital_inicial * (1+tasa_interes)**tiempo_en_años)-capital_inicial,2)\n",
    "    return beneficio_final\n",
    "\n"
   ]
  },
  {
   "cell_type": "code",
   "execution_count": 37,
   "metadata": {},
   "outputs": [
    {
     "data": {
      "text/plain": [
       "10408.08"
      ]
     },
     "execution_count": 37,
     "metadata": {},
     "output_type": "execute_result"
    }
   ],
   "source": [
    "calcular_interes_compuesto(100000 , 0.02 , 5)"
   ]
  },
  {
   "cell_type": "code",
   "execution_count": 38,
   "metadata": {},
   "outputs": [],
   "source": [
    "#6. Validar si una palabra es un anagrama de otra.\n",
    "\n",
    "# Descripción: Crea una función llamada es_anagrama que tome dos palabras como parámetros \n",
    "# y devuelva True si una es un anagrama de la otra, o False si no lo es.\n",
    "\n",
    "def es_anagrama(palabra1,palabra2):\n",
    "    list1=list(palabra1.lower())\n",
    "    list1.sort()\n",
    "    list2=list(palabra2.lower())\n",
    "    list2.sort()\n",
    "    if list1 == list2:\n",
    "        return True\n",
    "    \n",
    "    else:\n",
    "        return False"
   ]
  },
  {
   "cell_type": "code",
   "execution_count": 39,
   "metadata": {},
   "outputs": [
    {
     "data": {
      "text/plain": [
       "True"
      ]
     },
     "execution_count": 39,
     "metadata": {},
     "output_type": "execute_result"
    }
   ],
   "source": [
    "es_anagrama(\"monja\",\"jamon\")"
   ]
  },
  {
   "cell_type": "code",
   "execution_count": 40,
   "metadata": {},
   "outputs": [],
   "source": [
    "#7. Validar si una cadena de texto es un isograma.\n",
    "\n",
    "#Descripción: Crea una función llamada es_isograma que tome una cadena de texto como parámetro \n",
    "# y devuelva True si es un isograma. En caso contrario, devuelve False.\n",
    "\n",
    "#¿Qué es un isograma? Una palabra que no contiene letras repetidas.\n",
    "\n",
    "def es_isograma(cadena):\n",
    "    lista=list(cadena)\n",
    "    conteo=0\n",
    "    for i in lista:\n",
    "        conteo += (lista.count(i))\n",
    "    if conteo > len(lista):\n",
    "        print(conteo)\n",
    "        print(len(lista))\n",
    "        return False\n",
    "    else: \n",
    "        print(conteo)\n",
    "        print(len(lista))\n",
    "        return True       \n"
   ]
  },
  {
   "cell_type": "code",
   "execution_count": 41,
   "metadata": {},
   "outputs": [
    {
     "name": "stdout",
     "output_type": "stream",
     "text": [
      "10\n",
      "10\n"
     ]
    },
    {
     "data": {
      "text/plain": [
       "True"
      ]
     },
     "execution_count": 41,
     "metadata": {},
     "output_type": "execute_result"
    }
   ],
   "source": [
    "es_isograma(\"murcielago\")"
   ]
  },
  {
   "cell_type": "code",
   "execution_count": null,
   "metadata": {},
   "outputs": [],
   "source": [
    "#8. Concatenar múltiples cadenas de texto\n",
    "#Descripción: Crea una función llamada concatenar_cadenas que tome una cantidad variable de cadenas de texto como argumentos \n",
    "# y devuelva una única cadena que contenga la concatenación de todas las cadenas ingresadas."
   ]
  },
  {
   "cell_type": "code",
   "execution_count": null,
   "metadata": {},
   "outputs": [],
   "source": [
    "#9. Crear un diccionario con información de una persona.\n",
    "\n",
    "#Descripción: Crea una función llamada crear_persona que tome como argumentos clave-valor los datos de una persona, \n",
    "# como nombre, edad, ciudad, etc., y devuelva un diccionario con toda la información ingresada.\n",
    "\n",
    "#def crear_persona(persona):\n",
    "#    persona={\"nombre\":input(\"dime tu nombre\"), \"edad\":input(\"dime tu edad\"), \"ciudad\":input(\"dime tu ciudad\")}\n",
    "\n",
    "\n",
    "def crear_persona(persona):\n",
    "    persona={\"nombre\":input(\"dime tu nombre\"), \"edad\":input(\"dime tu edad\"), \"ciudad\":input(\"dime tu ciudad\")}\n",
    "    print(persona)\n",
    "    return persona"
   ]
  }
 ],
 "metadata": {
  "kernelspec": {
   "display_name": "base",
   "language": "python",
   "name": "python3"
  },
  "language_info": {
   "codemirror_mode": {
    "name": "ipython",
    "version": 3
   },
   "file_extension": ".py",
   "mimetype": "text/x-python",
   "name": "python",
   "nbconvert_exporter": "python",
   "pygments_lexer": "ipython3",
   "version": "3.12.7"
  }
 },
 "nbformat": 4,
 "nbformat_minor": 2
}
