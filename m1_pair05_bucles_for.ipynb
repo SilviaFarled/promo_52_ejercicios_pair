{
 "cells": [
  {
   "cell_type": "code",
   "execution_count": 2,
   "metadata": {},
   "outputs": [
    {
     "name": "stdout",
     "output_type": "stream",
     "text": [
      "1\n",
      "2\n",
      "3\n",
      "4\n",
      "5\n"
     ]
    }
   ],
   "source": [
    "#Ejericios bucles for\n",
    "#1. Imprimir los números del 1 al 5 utilizando un bucle for\n",
    "#Descripción: Utiliza un bucle for para imprimir los números del 1 al 5 (incluido) en orden ascendente.\n",
    "\n",
    "for i in range (1, 6):\n",
    "    print(i)"
   ]
  },
  {
   "cell_type": "code",
   "execution_count": 3,
   "metadata": {},
   "outputs": [
    {
     "name": "stdout",
     "output_type": "stream",
     "text": [
      "55\n"
     ]
    }
   ],
   "source": [
    "#2. Calcular la suma de los primeros 10 números naturales utilizando un bucle for\n",
    "#Descripción: Utiliza un bucle for para calcular la suma de los primeros 10 números naturales (1 + 2 + 3 + ... + 10).\n",
    "\n",
    "numeros =[]\n",
    "\n",
    "for i in range (1,11): \n",
    "    numeros.append(i)\n",
    "\n",
    "print(sum(numeros))"
   ]
  },
  {
   "cell_type": "code",
   "execution_count": 3,
   "metadata": {},
   "outputs": [
    {
     "name": "stdout",
     "output_type": "stream",
     "text": [
      "750720\n"
     ]
    }
   ],
   "source": [
    "#3. Calcular el producto de los elementos de una lista\n",
    "#Descripción: Dada una lista de números, utiliza un bucle for para calcular el producto de todos los elementos.\n",
    "\n",
    "multi = [6, 85, 1, 23, 64]\n",
    "resultado = 1\n",
    "\n",
    "for i in multi:\n",
    "    resultado *= i\n",
    "\n",
    "print(resultado)    \n"
   ]
  },
  {
   "cell_type": "code",
   "execution_count": 4,
   "metadata": {},
   "outputs": [
    {
     "name": "stdout",
     "output_type": "stream",
     "text": [
      "H\n",
      "o\n",
      "y\n",
      " \n",
      "h\n",
      "a\n",
      "c\n",
      "e\n",
      " \n",
      "u\n",
      "n\n",
      " \n",
      "d\n",
      "í\n",
      "a\n",
      " \n",
      "e\n",
      "s\n",
      "t\n",
      "u\n",
      "p\n",
      "e\n",
      "n\n",
      "d\n",
      "o\n"
     ]
    }
   ],
   "source": [
    "#4. Imprimir los caracteres de una cadena de texto\n",
    "#Descripción: Dada una cadena de texto, utiliza un bucle for para imprimir cada carácter en una línea separada.\n",
    "\n",
    "texto = \"Hoy hace un día estupendo\"\n",
    "\n",
    "for i in texto: \n",
    "    print(i)"
   ]
  },
  {
   "cell_type": "code",
   "execution_count": 9,
   "metadata": {},
   "outputs": [
    {
     "name": "stdout",
     "output_type": "stream",
     "text": [
      "2\n",
      "4\n",
      "6\n",
      "8\n",
      "10\n",
      "12\n",
      "14\n",
      "16\n",
      "18\n",
      "20\n",
      "22\n",
      "24\n",
      "26\n",
      "28\n",
      "30\n",
      "32\n",
      "34\n",
      "36\n",
      "38\n",
      "40\n",
      "42\n",
      "44\n",
      "46\n",
      "48\n",
      "50\n",
      "52\n",
      "54\n",
      "56\n",
      "58\n",
      "60\n",
      "62\n",
      "64\n",
      "66\n",
      "68\n",
      "70\n",
      "72\n",
      "74\n",
      "76\n",
      "78\n",
      "80\n",
      "82\n",
      "84\n",
      "86\n",
      "88\n",
      "90\n",
      "92\n",
      "94\n",
      "96\n",
      "98\n",
      "100\n"
     ]
    }
   ],
   "source": [
    "#5. Imprimir los números pares del 1 al 100 utilizando un bucle for\n",
    "#Descripción: Utiliza un bucle for para imprimir los números pares del 1 al 100 en orden ascendente.\n",
    "\n",
    "for i in range (1,101):\n",
    "        if i % 2 == 0:\n",
    "            print(i)\n",
    "\n"
   ]
  },
  {
   "cell_type": "code",
   "execution_count": 10,
   "metadata": {},
   "outputs": [
    {
     "name": "stdout",
     "output_type": "stream",
     "text": [
      "2\n",
      "4\n",
      "6\n",
      "8\n",
      "10\n",
      "12\n",
      "14\n",
      "16\n",
      "18\n",
      "20\n",
      "22\n",
      "24\n",
      "26\n",
      "28\n",
      "30\n",
      "32\n",
      "34\n",
      "36\n",
      "38\n",
      "40\n",
      "42\n",
      "44\n",
      "46\n",
      "48\n",
      "50\n",
      "52\n",
      "54\n",
      "56\n",
      "58\n",
      "60\n",
      "62\n",
      "64\n",
      "66\n",
      "68\n",
      "70\n",
      "72\n",
      "74\n",
      "76\n",
      "78\n",
      "80\n",
      "82\n",
      "84\n",
      "86\n",
      "88\n",
      "90\n",
      "92\n",
      "94\n",
      "96\n",
      "98\n",
      "100\n"
     ]
    }
   ],
   "source": [
    "for i in range (2,101,2):\n",
    "    print(i)"
   ]
  },
  {
   "cell_type": "code",
   "execution_count": 29,
   "metadata": {},
   "outputs": [
    {
     "name": "stdout",
     "output_type": "stream",
     "text": [
      "2\n",
      "3\n",
      "5\n",
      "7\n",
      "11\n",
      "13\n",
      "17\n",
      "19\n",
      "23\n",
      "29\n",
      "31\n",
      "37\n",
      "41\n",
      "43\n",
      "47\n"
     ]
    }
   ],
   "source": [
    "#6. Imprimir los números primos del 1 al 50 utilizando un bucle for\n",
    "#Descripción: Utiliza un bucle for para imprimir los números primos del 1 al 50 en orden ascendente.\n",
    "#NOTA: Según la Wikipedia, un número primo es un número natural mayor que 1 que no tiene divisores positivos más que 1 y él mismo.\n",
    "\n",
    "for numero in range(1, 51):\n",
    "    if numero > 1:\n",
    "        es_primo = True\n",
    "        for i in range(2, numero):\n",
    "            if numero % i == 0:\n",
    "                es_primo = False\n",
    "                break\n",
    "        if es_primo:\n",
    "            print(numero)\n"
   ]
  },
  {
   "cell_type": "code",
   "execution_count": 33,
   "metadata": {},
   "outputs": [
    {
     "name": "stdout",
     "output_type": "stream",
     "text": [
      "3628800\n"
     ]
    }
   ],
   "source": [
    "#7. Calcular el factorial de un número utilizando un bucle for\n",
    "#Descripción: Dado un número entero positivo, calcula su factorial utilizando un bucle for. (Permutaciones)\n",
    "\n",
    "positivo = 10\n",
    "factorial = 1\n",
    "\n",
    "for i in range(1,(positivo+1)):\n",
    "    factorial *= i\n",
    "    \n",
    "print(factorial)\n",
    "\n"
   ]
  },
  {
   "cell_type": "code",
   "execution_count": 1,
   "metadata": {},
   "outputs": [
    {
     "name": "stdout",
     "output_type": "stream",
     "text": [
      "['_', '_', '_', '_', '_']\n"
     ]
    }
   ],
   "source": [
    "#8. Juego de adivinar palabras utilizando un bucle for\n",
    "#Descripción: Crea un juego en el que el jugador debe adivinar una palabra secreta. El jugador tiene un número limitado de intentos y \n",
    "# se le proporcionan pistas después de cada intento. Utiliza un bucle for para controlar los intentos del jugador.\n",
    "\n",
    "palabra = \"TRAMO\"\n",
    "letras_palabra = list(palabra)\n",
    "intentos = 5\n",
    "\n",
    "adivina = list(len(letras_palabra)*\"_\")\n",
    "\n",
    "print(adivina)\n",
    "        \n"
   ]
  },
  {
   "cell_type": "code",
   "execution_count": 2,
   "metadata": {},
   "outputs": [
    {
     "name": "stdout",
     "output_type": "stream",
     "text": [
      "['T', '_', '_', '_', '_']\n",
      "['T', 'R', '_', '_', '_']\n",
      "['T', 'R', 'A', '_', '_']\n",
      "['T', 'R', 'A', 'M', '_']\n",
      "['T', 'R', 'A', 'M', 'O']\n",
      "¡ ¡ ¡ E N H O R A B U E N A ! ! ! Vivirás para ver un amanecer más\n",
      "Has descubierto la palabra TRAMO y te han sobrado 5 intentos\n"
     ]
    }
   ],
   "source": [
    "try: \n",
    "    while \"_\" in adivina:\n",
    "        pregunta = input(\"Venga, prueba una letra!\")\n",
    "        if pregunta in letras_palabra: \n",
    "            for i in letras_palabra:\n",
    "                if i == pregunta:\n",
    "                    indice = letras_palabra.index(pregunta)\n",
    "                    adivina [indice] = pregunta\n",
    "                    print(adivina)\n",
    "                    pregunta = input(f\"Enhorabuena! la letra {pregunta} sí está en la palabra\").upper()\n",
    "                else:\n",
    "                    pass\n",
    "        else:\n",
    "            intentos -= 1\n",
    "            if intentos == 4: \n",
    "                print(adivina)\n",
    "                pregunta = input(f\"Oooooh! menudo bajón, la letra {pregunta} no está en la palabra\").upper()\n",
    "            elif intentos == 3:\n",
    "                print(adivina)\n",
    "                pregunta = input(f\"Bueno, no nos pongamos nerviosos, no es común acertar a la primera, ni a la segunda, ni a la....\").upper()\n",
    "            elif intentos == 2:\n",
    "                print(adivina)\n",
    "                pregunta = input(f\"Igual no estaría mal empezar a ponernos un poco nervisos, que el banquito puede fallar en cualquier momento!!\").upper()\n",
    "            elif intentos == 1:\n",
    "                print(adivina)\n",
    "                pregunta = input(f\"Nada, tú tómatelo con calma, ni que te fuera la vida en ello O.O\").upper()\n",
    "            else: \n",
    "                print(adivina)\n",
    "                print(\"Espero que tuvieras seguro de vida...GAME OVER\")\n",
    "except: \n",
    "    pregunta = input(f\"Veo un error en el dato introducido, recuerda que debe ser una letra, por favor\").upper()\n",
    "        \n",
    "print(\"¡ ¡ ¡ E N H O R A B U E N A ! ! ! Vivirás para ver un amanecer más\")\n",
    "print(f\"Has descubierto la palabra {palabra} y te han sobrado {intentos} intentos\")"
   ]
  },
  {
   "cell_type": "code",
   "execution_count": 9,
   "metadata": {},
   "outputs": [
    {
     "name": "stdout",
     "output_type": "stream",
     "text": [
      "['_', '_', '_', '_', '_', '_', '_']\n",
      "['C', 'A', 'L', 'A', 'M', 'A', 'R']\n",
      "1\n"
     ]
    }
   ],
   "source": [
    "print(adivina)\n",
    "print(letras_palabra)\n",
    "pregunta = \"A\"\n",
    "print(letras_palabra.index(pregunta))\n"
   ]
  },
  {
   "cell_type": "code",
   "execution_count": 18,
   "metadata": {},
   "outputs": [
    {
     "name": "stdout",
     "output_type": "stream",
     "text": [
      "2\n",
      "4\n",
      "6\n",
      "8\n",
      "10\n",
      "12\n",
      "14\n",
      "16\n",
      "18\n",
      "20\n"
     ]
    }
   ],
   "source": [
    "#Ejercicios _list comprehension_\n",
    "#1. Generar una lista de los números pares del 1 al 20.\n",
    "#Descripción: Utiliza list comprehension para generar una lista que contenga todos los números pares en el rango del 1 al 20.\n",
    "\n",
    "pares = [print(i) for i in range (1,21) if i % 2 == 0]"
   ]
  },
  {
   "cell_type": "code",
   "execution_count": 20,
   "metadata": {},
   "outputs": [
    {
     "name": "stdout",
     "output_type": "stream",
     "text": [
      "e\n",
      "o\n",
      "u\n"
     ]
    }
   ],
   "source": [
    "#2. Obtener una lista de las vocales en una cadena de texto.\n",
    "#Descripción: Utiliza list comprehension para crear una lista que contenga todas las vocales presentes en una cadena de texto (sin repetición).\n",
    "\n",
    "vocal = [print(i) for i in [\"a\", \"e\", \"i\",\"o\",\"u\"] if i in \"Hoy tengo sueño\"]\n"
   ]
  },
  {
   "cell_type": "code",
   "execution_count": 21,
   "metadata": {},
   "outputs": [
    {
     "name": "stdout",
     "output_type": "stream",
     "text": [
      "25\n",
      "576\n",
      "2025\n",
      "15625\n",
      "0\n"
     ]
    }
   ],
   "source": [
    "#3. Filtrar los números positivos de una lista y calcular su cuadrado.\n",
    "#Descripción: Utiliza list comprehension para filtrar los números positivos de una lista y calcular el cuadrado de cada uno.\n",
    "\n",
    "enteros = [5, -23, 24, 45, -80, -2, 125, 0]\n",
    "\n",
    "cuadrado = [print(i**2) for i in enteros if i >= 0]"
   ]
  },
  {
   "cell_type": "code",
   "execution_count": 25,
   "metadata": {},
   "outputs": [
    {
     "name": "stdout",
     "output_type": "stream",
     "text": [
      "error\n",
      "['ana', 'ana', 'ana', 'ana', 'ana']\n"
     ]
    }
   ],
   "source": [
    "#Ejercicios try ...except\n",
    "#1. Realizar una búsqueda en una lista y capturar una excepción en caso de valor no encontrado.\n",
    "#Descripción: Solicita al usuario una lista de nombres y un nombre para buscar en la lista. \n",
    "# Intenta encontrar el nombre en la lista y utiliza las sentencias try y except para capturar la excepción en caso de que \n",
    "# el nombre no sea encontrado.\n",
    "\n",
    "lista = []\n",
    "\n",
    "\n",
    "while len(lista)<5:\n",
    "    creacion = input(\"Introduce 5 nombres de niña\")\n",
    "    lista.append(creacion)\n",
    "\n",
    " \n",
    "consulta = input(f\"Elige uno de los siguientes nombres {lista}\")\n",
    "try:\n",
    "    print(lista.index(consulta))\n",
    "except:\n",
    "    print(\"error\")\n",
    "\n",
    "\n",
    "print(lista)\n"
   ]
  }
 ],
 "metadata": {
  "kernelspec": {
   "display_name": "base",
   "language": "python",
   "name": "python3"
  },
  "language_info": {
   "codemirror_mode": {
    "name": "ipython",
    "version": 3
   },
   "file_extension": ".py",
   "mimetype": "text/x-python",
   "name": "python",
   "nbconvert_exporter": "python",
   "pygments_lexer": "ipython3",
   "version": "3.12.7"
  }
 },
 "nbformat": 4,
 "nbformat_minor": 2
}
