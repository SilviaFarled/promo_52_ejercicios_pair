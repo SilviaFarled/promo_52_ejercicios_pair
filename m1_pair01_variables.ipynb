{
 "cells": [
  {
   "cell_type": "markdown",
   "metadata": {},
   "source": []
  },
  {
   "cell_type": "code",
   "execution_count": 2,
   "metadata": {},
   "outputs": [],
   "source": [
    "# Crea tres variables numéricas\n",
    "numero1 = 15\n",
    "numero2 = 95\n",
    "numero3 = 38"
   ]
  },
  {
   "cell_type": "code",
   "execution_count": 3,
   "metadata": {},
   "outputs": [
    {
     "name": "stdout",
     "output_type": "stream",
     "text": [
      "False\n"
     ]
    }
   ],
   "source": [
    "#¿En vuestro caso, es el numero1 mayor que el numero2?\n",
    "print(numero1 > numero2)"
   ]
  },
  {
   "cell_type": "code",
   "execution_count": 5,
   "metadata": {},
   "outputs": [
    {
     "name": "stdout",
     "output_type": "stream",
     "text": [
      "False\n",
      "False\n",
      "False\n",
      "True\n"
     ]
    }
   ],
   "source": [
    "#¿Es el numero1 menor que el numero2 pero mayor que el numero3?\n",
    "print(numero1>numero2)\n",
    "\n",
    "#¿Es el numero1 menor que el numero2 pero mayor que el numero3?\n",
    "print((numero1 < numero2) and (numero1 > numero3))\n",
    "\n",
    "#¿Es el numero3 igual que el numero2\n",
    "print(numero3 == numero2)\n",
    "\n",
    "#¿Es el numero2 distinto que el numero1?\n",
    "print(numero2 != numero1)"
   ]
  },
  {
   "cell_type": "code",
   "execution_count": 7,
   "metadata": {},
   "outputs": [
    {
     "name": "stdout",
     "output_type": "stream",
     "text": [
      "3.23\n",
      "0.06999999999999984\n",
      "1.58\n",
      "(0.0, 1.58)\n",
      "1.0\n"
     ]
    }
   ],
   "source": [
    "#Crea dos variables numéricas de tipo float (decimal) con dos decimales, llámalas de la siguiente forma:\n",
    "altura1 = 1.58\n",
    "altura2 = 1.65\n",
    "\n",
    "#Cuál es la suma de las dos alturas\n",
    "print(altura1 + altura2)\n",
    "\n",
    "#Cuál es la diferencia entre las alturas\n",
    "print(abs(altura1-altura2))\n",
    "\n",
    "#Cuál es el resto de la división de las dos alturas\n",
    "print(altura1 % altura2)\n",
    "print(divmod(altura1, altura2))\n",
    "\n",
    "#Cuál es resultado de la división de las dos alturas, redondead el resultado a un decimal.\n",
    "print (round(altura1 / altura2, 1))"
   ]
  },
  {
   "cell_type": "code",
   "execution_count": 12,
   "metadata": {},
   "outputs": [
    {
     "name": "stdout",
     "output_type": "stream",
     "text": [
      "SILVIA GARCÍA\n",
      "silvia garcía\n",
      "Silvia García\n",
      "Silvia garcía\n"
     ]
    }
   ],
   "source": [
    "#Escribe un programa usando la función input() que le pregunte al usuario su nombre y apellidos. Una vez que tengamos el nombre del usuario:\n",
    "nombre = input(\"Por favor, introduce tu nombre a continuación\")\n",
    "apellido = input(\"Por favor, introduce tu apellido a continuación\")\n",
    "usuario = (f\"{nombre} {apellido}\")\n",
    "\n",
    "#Imprime su nombre y apellidos todo en mayúsculas\n",
    "print(usuario.upper())\n",
    "\n",
    "#Imprime su nombre y apellidos todo en minúsculas\n",
    "print(usuario.lower())\n",
    "\n",
    "#Imprime su nombre y apellidos con la primera letra del nombre y los apellidos en mayúscula y el resto en minúscula.\n",
    "print(usuario.title())\n",
    "\n",
    "#Imprime solo la primera letra del nombre en mayúscula.\n",
    "print((nombre.title()),(apellido.lower()))"
   ]
  },
  {
   "cell_type": "code",
   "execution_count": 13,
   "metadata": {},
   "outputs": [
    {
     "name": "stdout",
     "output_type": "stream",
     "text": [
      "mi juEgo favorito Es El ajEdrEz\n"
     ]
    }
   ],
   "source": [
    "#Escribe un programa usando la función input() que:\n",
    "#Le pregunte al usuario por una frase, almacenad este resultado en una variable.\n",
    "#Le pregunte al usuario por una vocal, almacenad este resultado en una variable.\n",
    "\n",
    "frase = input(\"escribe frase\").lower()\n",
    "vocal = input(\"vocal\").lower()\n",
    "\n",
    "#Imprime la misma frase pero con la vocal introducida en mayúsculas.\n",
    "\n",
    "print(frase.replace(vocal, vocal.upper()))"
   ]
  },
  {
   "cell_type": "code",
   "execution_count": 22,
   "metadata": {},
   "outputs": [
    {
     "name": "stdout",
     "output_type": "stream",
     "text": [
      "lechuga\n",
      "patatas\n",
      "cebollas\n",
      "pan\n",
      "harina\n"
     ]
    }
   ],
   "source": [
    "#Crea un programa que realice los siguientes pasos:\n",
    "#Solicite al usuario que introduzca su lista de la compra en una sola línea, separando cada elemento por comas.\n",
    "\n",
    "lista_compra = input(\"Introduce a continuación tu lista de la compra separando los elementos por comas. Por ejemplo: leche, pan, huevos, fruta\")\n",
    "lista_compra = lista_compra.replace(\", \",\"\\n\")\n",
    "\n",
    "\n",
    "print(lista_compra)\n",
    "\n"
   ]
  },
  {
   "cell_type": "code",
   "execution_count": 23,
   "metadata": {},
   "outputs": [],
   "source": [
    "lista_compra2 = input(\"Introduce a continuación tu lista de la compra separando los elementos por comas. Por ejemplo: leche, pan, huevos, fruta\")"
   ]
  },
  {
   "cell_type": "code",
   "execution_count": 30,
   "metadata": {},
   "outputs": [
    {
     "name": "stdout",
     "output_type": "stream",
     "text": [
      "lechuga\n",
      "patatas\n",
      "cebollas\n",
      "pan\n",
      "harina\n"
     ]
    }
   ],
   "source": [
    "lista1 = lista_compra2.split(\", \")\n",
    "lista2 = \"\\n\".join(lista1)\n",
    "print(lista2)"
   ]
  }
 ],
 "metadata": {
  "kernelspec": {
   "display_name": "base",
   "language": "python",
   "name": "python3"
  },
  "language_info": {
   "codemirror_mode": {
    "name": "ipython",
    "version": 3
   },
   "file_extension": ".py",
   "mimetype": "text/x-python",
   "name": "python",
   "nbconvert_exporter": "python",
   "pygments_lexer": "ipython3",
   "version": "3.12.7"
  }
 },
 "nbformat": 4,
 "nbformat_minor": 2
}
