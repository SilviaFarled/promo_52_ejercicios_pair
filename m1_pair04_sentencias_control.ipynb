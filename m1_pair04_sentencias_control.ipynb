{
 "cells": [
  {
   "cell_type": "code",
   "execution_count": 5,
   "metadata": {},
   "outputs": [
    {
     "name": "stdout",
     "output_type": "stream",
     "text": [
      "El número es 0\n"
     ]
    }
   ],
   "source": [
    "#1. Verificar si un número es positivo, negativo o cero\n",
    "#Descripción: Dado un número, verifica si es positivo, negativo o cero.\n",
    "\n",
    "numero = 0\n",
    "\n",
    "if numero > 0:\n",
    "    print(\"El número es positivo\")\n",
    "elif numero < 0:\n",
    "    print(\"El número es negativo\")\n",
    "else:\n",
    "    print(\"El número es 0\")"
   ]
  },
  {
   "cell_type": "code",
   "execution_count": 11,
   "metadata": {},
   "outputs": [
    {
     "name": "stdout",
     "output_type": "stream",
     "text": [
      "El número es impar\n"
     ]
    }
   ],
   "source": [
    "#2 Verificar si un número es par o impar\n",
    "#Descripción: Dado un número, verifica si es par o impar.\n",
    "\n",
    "numero2 = 21\n",
    "\n",
    "if numero2 % 2 == 0:\n",
    "    print(\"El número es par\")\n",
    "else: \n",
    "    print(\"El número es impar\")"
   ]
  },
  {
   "cell_type": "code",
   "execution_count": 14,
   "metadata": {},
   "outputs": [
    {
     "name": "stdout",
     "output_type": "stream",
     "text": [
      "¡Felicidades! Has aprobado\n"
     ]
    }
   ],
   "source": [
    "#3 Verificar si un estudiante aprobó o suspendió un examen\n",
    "#Descripción: Dada la calificación de un estudiante en un examen, verifica si aprobó o suspendió \n",
    "# (si la calificación es mayor o igual a 60 se considera aprobado).\n",
    "\n",
    "nota = int(input(\"Introduce la nota del alumno\"))\n",
    "\n",
    "if nota >= 60:\n",
    "    print(\"¡Felicidades! Has aprobado\")\n",
    "else: \n",
    "    print(\"Esfuérzarte más para la recuperación\")\n",
    "\n"
   ]
  },
  {
   "cell_type": "code",
   "execution_count": 17,
   "metadata": {},
   "outputs": [
    {
     "name": "stdout",
     "output_type": "stream",
     "text": [
      "40 es el máximo\n"
     ]
    }
   ],
   "source": [
    "#4. Calcular el máximo entre dos números\n",
    "#Descripción: Dados dos números, encuentra el máximo entre ellos.\n",
    "\n",
    "numero3 = 40\n",
    "numero4 = 21\n",
    "\n",
    "if numero3 > numero4: \n",
    "    print(f\"{numero3} es el máximo\")\n",
    "else:\n",
    "    print(f\"{numero4} es el máximo\")\n"
   ]
  },
  {
   "cell_type": "code",
   "execution_count": 18,
   "metadata": {},
   "outputs": [
    {
     "name": "stdout",
     "output_type": "stream",
     "text": [
      "40\n"
     ]
    }
   ],
   "source": [
    "lista = [numero3, numero4]\n",
    "print(max(lista))"
   ]
  },
  {
   "cell_type": "code",
   "execution_count": 19,
   "metadata": {},
   "outputs": [
    {
     "name": "stdout",
     "output_type": "stream",
     "text": [
      "A es una vocal\n"
     ]
    }
   ],
   "source": [
    "#5. Verificar si una letra es una vocal o una consonante\n",
    "#Descripción: Dada una letra, verifica si es una vocal o una consonante.\n",
    "\n",
    "letra1 = input(\"Introduce una letra\").upper()\n",
    "listavocal = [\"A\", \"E\", \"I\", \"O\", \"U\"]\n",
    "\n",
    "if letra1 in listavocal:\n",
    "    print(f\"{letra1} es una vocal\")\n",
    "else: \n",
    "    print(f\"{letra1} es una consonante\")"
   ]
  },
  {
   "cell_type": "code",
   "execution_count": 21,
   "metadata": {},
   "outputs": [
    {
     "name": "stdout",
     "output_type": "stream",
     "text": [
      "El coste final de tu compra es 90.0\n"
     ]
    }
   ],
   "source": [
    "#6. Calcular el descuento en una compra según el monto total\n",
    "#Descripción: Dado el monto total de una compra, calcula el descuento aplicado según las siguientes condiciones: si el monto es mayor o igual a $100, aplica un descuento del 10%; de lo contrario, no aplica ningún descuento.\n",
    "\n",
    "monto = float(input(\"Introduce el coste total de tu compra\"))\n",
    "\n",
    "if monto >= 100:\n",
    "    monto = monto*0.9\n",
    "\n",
    "print(f\"El coste final de tu compra es {monto}\")"
   ]
  },
  {
   "cell_type": "code",
   "execution_count": 22,
   "metadata": {},
   "outputs": [
    {
     "name": "stdout",
     "output_type": "stream",
     "text": [
      "2024 es bisiesto\n"
     ]
    }
   ],
   "source": [
    "#7. Verificar si un año es bisiesto o no\n",
    "#Descripción: Dado un año, verifica si es bisiesto o no (un año es bisiesto si es divisible entre 4, excepto aquellos divisibles entre 100 pero no entre 400).\n",
    "\n",
    "año = int(input(\"Introduce el año a consultar\"))\n",
    "\n",
    "if año % 4 == 0:\n",
    "    print(f\"{año} es bisiesto\")\n",
    "else: \n",
    "    print(f\"El año {año} no es bisiesto\")"
   ]
  },
  {
   "cell_type": "code",
   "execution_count": 25,
   "metadata": {},
   "outputs": [
    {
     "name": "stdout",
     "output_type": "stream",
     "text": [
      "Eres un adulto mayor\n"
     ]
    }
   ],
   "source": [
    "#8. Asignar una categoría a una edad\n",
    "#Descripción: Dada una edad, asigna una categoría según las siguientes condiciones: si la edad es menor de 18, la categoría es \"Menor de edad\"; si la edad está entre 18 y 64 (incluyendo ambos), la categoría es \"Adulto\"; de lo contrario, la categoría es \"Adulto mayor\".\n",
    "\n",
    "edad = int(input(\"Introduce aquí tu edad\"))\n",
    "\n",
    "if edad < 18: \n",
    "    respuesta = \"Eres menor de edad\"\n",
    "elif 18 <= edad <= 64:\n",
    "    respuesta = \"Eres un adulto\"\n",
    "else: \n",
    "    respuesta = \"Eres un adulto mayor\"\n",
    "\n",
    "print(respuesta)"
   ]
  },
  {
   "cell_type": "code",
   "execution_count": 27,
   "metadata": {},
   "outputs": [
    {
     "name": "stdout",
     "output_type": "stream",
     "text": [
      "Se cumple el teoremoa de Pitágoras\n"
     ]
    }
   ],
   "source": [
    "#9. Verificar si tres números forman un triángulo rectángulo\n",
    "#Descripción: Dados tres números, verifica si forman un triángulo rectángulo (si se cumple el teorema de Pitágoras).\n",
    "\n",
    "a = 3\n",
    "b = 4\n",
    "c = 5 \n",
    "\n",
    "if a**2+b**2 == c**2:\n",
    "    print(\"Se cumple el teoremoa de Pitágoras\")\n",
    "else: \n",
    "    print(\"No se cumple el teoremoa de Pitágoras\")\n"
   ]
  },
  {
   "cell_type": "code",
   "execution_count": 31,
   "metadata": {},
   "outputs": [
    {
     "name": "stdout",
     "output_type": "stream",
     "text": [
      "La calificación correspondiente a tu puntuación es D\n"
     ]
    }
   ],
   "source": [
    "#10. Asignar una calificación a una puntuación\n",
    "#Descripción: Dada una puntuación, asigna una calificación según las siguientes condiciones: si la puntuación es mayor o igual a 90, la calificación es \"A\"; \n",
    "# si es mayor o igual a 80, la calificación es \"B\"; si es mayor o igual a 70, la calificación es \"C\"; \n",
    "# si es mayor o igual a 60, la calificación es \"D\"; de lo contrario, la calificación es \"F\".\n",
    "\n",
    "punt = float(input(\"Inroduce la puntuación para obtener una calificación\"))\n",
    "\n",
    "if punt >= 90: \n",
    "    nota = \"A\"\n",
    "elif punt >= 80:\n",
    "    nota = \"B\"\n",
    "elif punt >= 70:\n",
    "    nota = \"C\"\n",
    "elif punt >= 60:\n",
    "    nota = \"D\"\n",
    "else: \n",
    "    nota = \"F\"\n",
    "\n",
    "print(f\"La calificación correspondiente a tu puntuación es {nota}\")"
   ]
  },
  {
   "cell_type": "code",
   "execution_count": 37,
   "metadata": {},
   "outputs": [
    {
     "name": "stdout",
     "output_type": "stream",
     "text": [
      "Tienes obesidad\n"
     ]
    }
   ],
   "source": [
    "#11. Calcular el índice de masa corporal (IMC) y categorizarlo\n",
    "#Descripción: Dados el peso (en kg) y la altura (en metros) de una persona, calcula su IMC y categorízalo según las siguientes condiciones: \n",
    "# si el IMC es menor a 18.5, es \"Bajo peso\"; si está entre 18.5 y 24.9 (inclusive), es \"Peso normal\"; si está entre 25 y 29.9 (inclusive), es \"Sobrepeso\"; \n",
    "# de lo contrario, es \"Obesidad\".\n",
    "\n",
    "peso = float(input(\"Para calcular tu índice de masa corporal introduce tu peso\"))\n",
    "altura = float(input(\"¿cuánto mides?\"))\n",
    "\n",
    "imc = peso / altura**2\n",
    "\n",
    "if imc < 18.5: \n",
    "    print(\"Tienes bajo peso\")\n",
    "elif 18.5<= imc <= 24.9:\n",
    "    print(\"Tu peso es normal\")\n",
    "elif 24.9 <= imc <= 29.9:\n",
    "    print(\"Tienes sobrepeso\")\n",
    "else:\n",
    "    print(\"Tienes obesidad\")\n",
    "\n",
    "\n",
    "\n"
   ]
  },
  {
   "cell_type": "code",
   "execution_count": 38,
   "metadata": {},
   "outputs": [
    {
     "name": "stdout",
     "output_type": "stream",
     "text": [
      "86\n"
     ]
    }
   ],
   "source": [
    "#12. Calcular el mayor de tres números\n",
    "#Descripción: Dados tres números, encuentra el mayor entre ellos.\n",
    "\n",
    "num1 = 25\n",
    "num2 = 86\n",
    "num3 = 45\n",
    "\n",
    "numbers = [num1, num2, num3]\n",
    "\n",
    "print(max(numbers))"
   ]
  },
  {
   "cell_type": "code",
   "execution_count": null,
   "metadata": {},
   "outputs": [
    {
     "name": "stdout",
     "output_type": "stream",
     "text": [
      "['2', '0', '5', '0']\n"
     ]
    },
    {
     "ename": "TypeError",
     "evalue": "not all arguments converted during string formatting",
     "output_type": "error",
     "traceback": [
      "\u001b[1;31m---------------------------------------------------------------------------\u001b[0m",
      "\u001b[1;31mTypeError\u001b[0m                                 Traceback (most recent call last)",
      "Cell \u001b[1;32mIn[48], line 19\u001b[0m\n\u001b[0;32m     17\u001b[0m \u001b[38;5;28;01mif\u001b[39;00m \u001b[38;5;28mlen\u001b[39m(l_year) \u001b[38;5;241m==\u001b[39m \u001b[38;5;241m4\u001b[39m:\n\u001b[0;32m     18\u001b[0m     \u001b[38;5;28;01mif\u001b[39;00m month \u001b[38;5;129;01min\u001b[39;00m month28:\n\u001b[1;32m---> 19\u001b[0m         \u001b[38;5;28;01mif\u001b[39;00m year \u001b[38;5;241m%\u001b[39m \u001b[38;5;241m4\u001b[39m \u001b[38;5;241m==\u001b[39m \u001b[38;5;241m0\u001b[39m:\n\u001b[0;32m     20\u001b[0m             \u001b[38;5;28;01mif\u001b[39;00m \u001b[38;5;241m0\u001b[39m \u001b[38;5;241m<\u001b[39m day \u001b[38;5;241m<\u001b[39m\u001b[38;5;241m=\u001b[39m \u001b[38;5;241m29\u001b[39m: \n\u001b[0;32m     21\u001b[0m                     \u001b[38;5;28mprint\u001b[39m(\u001b[38;5;124mf\u001b[39m\u001b[38;5;124m\"\u001b[39m\u001b[38;5;132;01m{\u001b[39;00mday\u001b[38;5;132;01m}\u001b[39;00m\u001b[38;5;124m / \u001b[39m\u001b[38;5;132;01m{\u001b[39;00mmonth\u001b[38;5;132;01m}\u001b[39;00m\u001b[38;5;124m / \u001b[39m\u001b[38;5;132;01m{\u001b[39;00myear\u001b[38;5;132;01m}\u001b[39;00m\u001b[38;5;124m es una fecha válida\u001b[39m\u001b[38;5;124m\"\u001b[39m)\n",
      "\u001b[1;31mTypeError\u001b[0m: not all arguments converted during string formatting"
     ]
    }
   ],
   "source": [
    "#13. BONUS sentencias de control: Verificar la validez de una fecha\n",
    "#Descripción: Dados el día, el mes y el año de una fecha, verifica si la fecha es válida.\n",
    "\n",
    "\n",
    "day = int(input(\"Para validar la fecha, por favor introduce primero el día\"))\n",
    "month = int(input(\"Por favor, a continuación introduce el mes en número siendo 1 enero y 12 diciembre\"))\n",
    "year = (input(\"A continuación introduce el año en número\"))\n",
    "\n",
    "month28 = [2]\n",
    "month30 = [4, 6, 9, 11]\n",
    "month31 = [1, 3, 5, 7, 8, 10, 31]\n",
    "\n",
    "l_year = list(year)\n",
    "print(l_year)\n",
    "\n",
    "try: \n",
    "    if len(l_year) == 4:\n",
    "        if month in month28:\n",
    "            if year % 4 == 0:\n",
    "                if 0 < day <= 29: \n",
    "                    print(f\"{day} / {month} / {year} es una fecha válida\")\n",
    "                else:\n",
    "                    print(f\"{day} / {month} / {year} NO es una fecha válida\")\n",
    "            elif 0 < day <= 28: \n",
    "                print(f\"{day} / {month} / {year} es una fecha válida\")\n",
    "            else:\n",
    "                print(f\"{day} / {month} / {year} NO es una fecha válida\")\n",
    "        if month in month30: \n",
    "            if 0 < day <= 30: \n",
    "                print(f\"{day} / {month} / {year} es una fecha válida\")\n",
    "            else:\n",
    "                print(f\"{day} / {month} / {year} NO es una fecha válida\")\n",
    "        if month in month31: \n",
    "            if 0 < day <= 31: \n",
    "                print(f\"{day} / {month} / {year} es una fecha válida\")\n",
    "            else:\n",
    "                print(f\"{day} / {month} / {year} NO es una fecha válida\")\n",
    "    else:\n",
    "        print(f\"{day} / {month} / {year} NO es una fecha válida\")\n",
    "\n",
    "except:\n",
    "    print(f\"{day} / {month} / {year} NO es una fecha válida\")"
   ]
  },
  {
   "cell_type": "code",
   "execution_count": 55,
   "metadata": {},
   "outputs": [
    {
     "name": "stdout",
     "output_type": "stream",
     "text": [
      "11\n",
      "55\n"
     ]
    }
   ],
   "source": [
    "#14. Calcular la suma de los primeros 10 números naturales utilizando un bucle while\n",
    "#Descripción: Utiliza un bucle while para calcular la suma de los primeros 10 números naturales (1 + 2 + 3 + ... + 10).\n",
    "\n",
    "numero = 1\n",
    "suma = 0\n",
    "\n",
    "\n",
    "while numero <= 10:\n",
    "    suma += numero\n",
    "    numero +=1\n",
    "\n",
    "print(numero)\n",
    "print(suma)\n"
   ]
  },
  {
   "cell_type": "code",
   "execution_count": 57,
   "metadata": {},
   "outputs": [
    {
     "name": "stdout",
     "output_type": "stream",
     "text": [
      "You win!\n"
     ]
    }
   ],
   "source": [
    "#15. Juego de adivinanza utilizando un bucle while\n",
    "#Descripción: Crea un juego de adivinanza en el que el jugador tiene que adivinar un número secreto (tendrá que ser entre el 0 y el 10). \n",
    "# Utiliza un bucle while para permitir múltiples intentos hasta que el jugador adivine correctamente.\n",
    "\n",
    "numero = 8\n",
    "\n",
    "adivina = int(input(\"Introduce un número del 0 al 10\"))\n",
    "\n",
    "while adivina != numero: \n",
    "    adivina = int(input(\"Introduce un número del 0 al 10\"))\n",
    "\n",
    "else: \n",
    "    print (\"You win!\")"
   ]
  }
 ],
 "metadata": {
  "kernelspec": {
   "display_name": "base",
   "language": "python",
   "name": "python3"
  },
  "language_info": {
   "codemirror_mode": {
    "name": "ipython",
    "version": 3
   },
   "file_extension": ".py",
   "mimetype": "text/x-python",
   "name": "python",
   "nbconvert_exporter": "python",
   "pygments_lexer": "ipython3",
   "version": "3.12.7"
  }
 },
 "nbformat": 4,
 "nbformat_minor": 2
}
