{
 "cells": [
  {
   "cell_type": "code",
   "execution_count": 2,
   "metadata": {},
   "outputs": [],
   "source": [
    "#duplicar cada elemento de una lista\n",
    "\n",
    "lista = [1, 2, 3, 4, 5]"
   ]
  },
  {
   "cell_type": "code",
   "execution_count": 3,
   "metadata": {},
   "outputs": [
    {
     "name": "stdout",
     "output_type": "stream",
     "text": [
      "[1, 2, 3, 4, 5, 1, 2, 3, 4, 5]\n"
     ]
    }
   ],
   "source": [
    "lista2 = lista + lista\n",
    "\n",
    "# Print the result\n",
    "print(lista2)"
   ]
  },
  {
   "cell_type": "code",
   "execution_count": 5,
   "metadata": {},
   "outputs": [],
   "source": [
    "#ejercicio2\n",
    "\n",
    "lista3 = [9,8,7,6,5,4,3,2,1]\n",
    "lista4 = [0,502,100,200,300,400,500]"
   ]
  },
  {
   "cell_type": "code",
   "execution_count": 6,
   "metadata": {},
   "outputs": [
    {
     "name": "stdout",
     "output_type": "stream",
     "text": [
      "[9, 8, 7, 6, 5, 4, 3, 2, 1, 0, 502, 100, 200, 300, 400, 500]\n"
     ]
    }
   ],
   "source": [
    "lista3.extend(lista4)\n",
    "print(lista3)"
   ]
  },
  {
   "cell_type": "code",
   "execution_count": 7,
   "metadata": {},
   "outputs": [
    {
     "name": "stdout",
     "output_type": "stream",
     "text": [
      "45\n"
     ]
    }
   ],
   "source": [
    "#ejercicio3\n",
    "\n",
    "lista5 = [9,8,7,6,5,4,3,2,1]\n",
    "print (sum(lista5))"
   ]
  },
  {
   "cell_type": "code",
   "execution_count": 8,
   "metadata": {},
   "outputs": [
    {
     "name": "stdout",
     "output_type": "stream",
     "text": [
      "9\n",
      "9\n",
      "6\n"
     ]
    }
   ],
   "source": [
    "#ejercicio4\n",
    "\n",
    "print (max(lista5))\n",
    "\n",
    "#ejercicio5\n",
    "\n",
    "print (len(lista5))\n",
    "\n",
    "#ejercicio6\n",
    "print (lista5.index(3))"
   ]
  },
  {
   "cell_type": "code",
   "execution_count": 9,
   "metadata": {},
   "outputs": [
    {
     "name": "stdout",
     "output_type": "stream",
     "text": [
      "1\n"
     ]
    }
   ],
   "source": [
    "#ejercicio7\n",
    "print (lista5.count(3))"
   ]
  },
  {
   "cell_type": "code",
   "execution_count": 10,
   "metadata": {},
   "outputs": [
    {
     "name": "stdout",
     "output_type": "stream",
     "text": [
      "[7, 6, 5]\n"
     ]
    }
   ],
   "source": [
    "#ejercicio8\n",
    "lista6 = lista5[2:5]\n",
    "print (lista6)"
   ]
  },
  {
   "cell_type": "code",
   "execution_count": 11,
   "metadata": {},
   "outputs": [
    {
     "name": "stdout",
     "output_type": "stream",
     "text": [
      "5\n"
     ]
    }
   ],
   "source": [
    "#ejercicio9 y 10\n",
    "print (lista6[-1])"
   ]
  },
  {
   "cell_type": "code",
   "execution_count": 12,
   "metadata": {},
   "outputs": [
    {
     "name": "stdout",
     "output_type": "stream",
     "text": [
      "[8, 7]\n"
     ]
    }
   ],
   "source": [
    "#ejercicio11\n",
    "lista7 = lista5[1:3]\n",
    "print (lista7)"
   ]
  },
  {
   "cell_type": "code",
   "execution_count": 13,
   "metadata": {},
   "outputs": [
    {
     "name": "stdout",
     "output_type": "stream",
     "text": [
      "[8, 6]\n"
     ]
    }
   ],
   "source": [
    "#ejercicio12\n",
    "lista7[1] = 6 \n",
    "print (lista7)\n"
   ]
  },
  {
   "cell_type": "code",
   "execution_count": 14,
   "metadata": {},
   "outputs": [
    {
     "name": "stdout",
     "output_type": "stream",
     "text": [
      "[6, 8]\n"
     ]
    }
   ],
   "source": [
    "#ejercicio13\n",
    "lista7.reverse()\n",
    "print (lista7)"
   ]
  },
  {
   "cell_type": "code",
   "execution_count": 15,
   "metadata": {},
   "outputs": [
    {
     "name": "stdout",
     "output_type": "stream",
     "text": [
      "[1, 2, 3, 4, 5, 6, 7, 8, 9]\n"
     ]
    }
   ],
   "source": [
    "#ejercicio14\n",
    "lista5.sort()\n",
    "print (lista5)"
   ]
  },
  {
   "cell_type": "code",
   "execution_count": 16,
   "metadata": {},
   "outputs": [
    {
     "name": "stdout",
     "output_type": "stream",
     "text": [
      "[1, 3, 5, 7, 9]\n"
     ]
    }
   ],
   "source": [
    "#ejercicio15\n",
    "lista8 = lista5 [::2]\n",
    "print (lista8)"
   ]
  },
  {
   "cell_type": "code",
   "execution_count": 17,
   "metadata": {},
   "outputs": [
    {
     "name": "stdout",
     "output_type": "stream",
     "text": [
      "[1, 4, 7]\n"
     ]
    }
   ],
   "source": [
    "#ejercicio16\n",
    "lista9 = lista5 [::3]\n",
    "print (lista9)"
   ]
  },
  {
   "cell_type": "code",
   "execution_count": 18,
   "metadata": {},
   "outputs": [
    {
     "name": "stdout",
     "output_type": "stream",
     "text": [
      "8\n"
     ]
    }
   ],
   "source": [
    "#ejercicio17\n",
    "lista5.sort()\n",
    "print (lista5[-2])"
   ]
  },
  {
   "cell_type": "markdown",
   "metadata": {},
   "source": [
    "# Ejercicio 18\n",
    "\n",
    "## La diferencia entre .sort y .sorted\n",
    "\n",
    "### .sort edita la variable original \n",
    "### .sorted es necesario crear una nueva variable (no modifica la original)"
   ]
  },
  {
   "cell_type": "code",
   "execution_count": 19,
   "metadata": {},
   "outputs": [
    {
     "name": "stdout",
     "output_type": "stream",
     "text": [
      "['manzana', 'pera', 'naranja', 'uva', 'bollicao', 'donuts', 'galletas', 'chocolate']\n",
      "['manzana', 'pera', 'naranja', 'uva', 'bollicao', 'donuts', 'galletas', 'chocolate', ['bollicao', 'donuts', 'galletas', 'chocolate']]\n"
     ]
    }
   ],
   "source": [
    "#ejercicio19    \n",
    "lista10 = [\"manzana\", \"pera\", \"naranja\", \"uva\"]\n",
    "lista11 = [\"bollicao\", \"donuts\", \"galletas\", \"chocolate\"]\n",
    "lista10.extend(lista11)\n",
    "print (lista10)\n",
    "lista10.append(lista11)\n",
    "print (lista10)"
   ]
  },
  {
   "cell_type": "code",
   "execution_count": 21,
   "metadata": {},
   "outputs": [],
   "source": [
    "#ejercicio20\n",
    "pregunta = int(input(\"¿En que posición quieres añadir un elemento?\"))\n",
    "lista10.insert(pregunta, \"pan\")"
   ]
  },
  {
   "cell_type": "code",
   "execution_count": 23,
   "metadata": {},
   "outputs": [
    {
     "name": "stdout",
     "output_type": "stream",
     "text": [
      "['manzana', 'pan', 'pera', 'naranja', 'uva', 'bollicao', 'donuts', 'galletas', 'chocolate', ['bollicao', 'donuts', 'galletas', 'chocolate']]\n"
     ]
    }
   ],
   "source": [
    "print(lista10)"
   ]
  },
  {
   "cell_type": "code",
   "execution_count": 25,
   "metadata": {},
   "outputs": [
    {
     "name": "stdout",
     "output_type": "stream",
     "text": [
      "False\n"
     ]
    }
   ],
   "source": [
    "#ejercicio21\n",
    "\n",
    "print(input(\"¿Qué producto quieres consultar?\") in lista10)"
   ]
  },
  {
   "cell_type": "code",
   "execution_count": 26,
   "metadata": {},
   "outputs": [
    {
     "name": "stdout",
     "output_type": "stream",
     "text": [
      "['manzana', 'pan', 'pera', 'naranja', 'uva', 'bollicao', 'donuts', 'galletas', 'chocolate']\n",
      "['manzana', 'pan', 'pera', 'uva', 'bollicao', 'donuts', 'galletas', 'chocolate']\n",
      "[]\n"
     ]
    }
   ],
   "source": [
    "lista12 = lista10.copy()\n",
    "lista12.pop()\n",
    "print(lista12)\n",
    "lista12.remove(\"naranja\")\n",
    "print(lista12)\n",
    "lista12.clear()\n",
    "print(lista12)\n"
   ]
  },
  {
   "cell_type": "markdown",
   "metadata": {},
   "source": [
    "### TUPLAS"
   ]
  },
  {
   "cell_type": "code",
   "execution_count": 33,
   "metadata": {},
   "outputs": [
    {
     "data": {
      "text/plain": [
       "'colores'"
      ]
     },
     "execution_count": 33,
     "metadata": {},
     "output_type": "execute_result"
    }
   ],
   "source": [
    "#1\n",
    "\n",
    "tupla = (\"colores\", \"formas\", \"asamblea\", \"juego por rincones\")\n",
    "tupla[0]"
   ]
  },
  {
   "cell_type": "code",
   "execution_count": 28,
   "metadata": {},
   "outputs": [
    {
     "data": {
      "text/plain": [
       "'juego por rincones'"
      ]
     },
     "execution_count": 28,
     "metadata": {},
     "output_type": "execute_result"
    }
   ],
   "source": [
    "#2\n",
    "tupla[-1]"
   ]
  },
  {
   "cell_type": "code",
   "execution_count": null,
   "metadata": {},
   "outputs": [
    {
     "data": {
      "text/plain": [
       "4"
      ]
     },
     "execution_count": 29,
     "metadata": {},
     "output_type": "execute_result"
    }
   ],
   "source": [
    "#3\n",
    "len(tupla)"
   ]
  },
  {
   "cell_type": "code",
   "execution_count": 34,
   "metadata": {},
   "outputs": [],
   "source": [
    "#4\n",
    "tupla2 = (\"patio\", \"excursiones\", \"comedor\", \"extraescolares\", \"formas\")\n",
    "tupla += tupla2\n"
   ]
  },
  {
   "cell_type": "code",
   "execution_count": 35,
   "metadata": {},
   "outputs": [
    {
     "name": "stdout",
     "output_type": "stream",
     "text": [
      "('colores', 'formas', 'asamblea', 'juego por rincones', 'patio', 'excursiones', 'comedor', 'extraescolares', 'formas')\n"
     ]
    }
   ],
   "source": [
    "print(tupla)"
   ]
  },
  {
   "cell_type": "code",
   "execution_count": 36,
   "metadata": {},
   "outputs": [
    {
     "data": {
      "text/plain": [
       "1"
      ]
     },
     "execution_count": 36,
     "metadata": {},
     "output_type": "execute_result"
    }
   ],
   "source": [
    "#5\n",
    "tupla.index(\"formas\")"
   ]
  },
  {
   "cell_type": "code",
   "execution_count": 37,
   "metadata": {},
   "outputs": [
    {
     "data": {
      "text/plain": [
       "2"
      ]
     },
     "execution_count": 37,
     "metadata": {},
     "output_type": "execute_result"
    }
   ],
   "source": [
    "#6\n",
    "tupla.count(\"formas\")"
   ]
  },
  {
   "cell_type": "code",
   "execution_count": 40,
   "metadata": {},
   "outputs": [
    {
     "name": "stdout",
     "output_type": "stream",
     "text": [
      "('formas', 'asamblea')\n"
     ]
    }
   ],
   "source": [
    "#7\n",
    "tupla3 = tupla[1:3]\n",
    "print(tupla3)"
   ]
  },
  {
   "cell_type": "code",
   "execution_count": 44,
   "metadata": {},
   "outputs": [
    {
     "name": "stdout",
     "output_type": "stream",
     "text": [
      "('asamblea', 'formas')\n"
     ]
    }
   ],
   "source": [
    "#8\n",
    "orden = list(tupla3)\n",
    "orden.reverse()\n",
    "tupla3 = tuple(orden)\n",
    "print(tupla3)"
   ]
  }
 ],
 "metadata": {
  "kernelspec": {
   "display_name": "base",
   "language": "python",
   "name": "python3"
  },
  "language_info": {
   "codemirror_mode": {
    "name": "ipython",
    "version": 3
   },
   "file_extension": ".py",
   "mimetype": "text/x-python",
   "name": "python",
   "nbconvert_exporter": "python",
   "pygments_lexer": "ipython3",
   "version": "3.12.7"
  }
 },
 "nbformat": 4,
 "nbformat_minor": 2
}
