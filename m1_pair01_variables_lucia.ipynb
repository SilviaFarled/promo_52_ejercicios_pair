{
 "cells": [
  {
   "cell_type": "markdown",
   "metadata": {},
   "source": []
  },
  {
   "cell_type": "code",
   "execution_count": 36,
   "metadata": {},
   "outputs": [],
   "source": [
    "# Crea tres variables numéricas\n",
    "numero1 = 15\n",
    "numero2 = 95\n",
    "numero3 = 38"
   ]
  },
  {
   "cell_type": "code",
   "execution_count": 37,
   "metadata": {},
   "outputs": [
    {
     "name": "stdout",
     "output_type": "stream",
     "text": [
      "False\n"
     ]
    }
   ],
   "source": [
    "#¿En vuestro caso, es el numero1 mayor que el numero2?\n",
    "print(numero1 > numero2)"
   ]
  },
  {
   "cell_type": "code",
   "execution_count": 38,
   "metadata": {},
   "outputs": [
    {
     "name": "stdout",
     "output_type": "stream",
     "text": [
      "False\n"
     ]
    }
   ],
   "source": [
    "#¿Es el numero1 menor que el numero2 pero mayor que el numero3?\n",
    "#Opción 1 de solucion\n",
    "print (numero2 > numero1 > numero3)"
   ]
  },
  {
   "cell_type": "code",
   "execution_count": 39,
   "metadata": {},
   "outputs": [
    {
     "name": "stdout",
     "output_type": "stream",
     "text": [
      "False\n"
     ]
    }
   ],
   "source": [
    "#Opcion 2 de solucion\n",
    "print (numero1 < numero2 and numero1 > numero3)"
   ]
  },
  {
   "cell_type": "code",
   "execution_count": 40,
   "metadata": {},
   "outputs": [
    {
     "name": "stdout",
     "output_type": "stream",
     "text": [
      "False\n"
     ]
    }
   ],
   "source": [
    "#¿Es el número3 = número 2?\n",
    "print (numero3 == numero2)"
   ]
  },
  {
   "cell_type": "code",
   "execution_count": 41,
   "metadata": {},
   "outputs": [
    {
     "name": "stdout",
     "output_type": "stream",
     "text": [
      "True\n"
     ]
    }
   ],
   "source": [
    "#¿Es el numero3 distinto del numero1?\n",
    "print (numero3 != numero1)"
   ]
  },
  {
   "cell_type": "code",
   "execution_count": 42,
   "metadata": {},
   "outputs": [],
   "source": [
    "#Crea dos variables float con dos decimales\n",
    "\n",
    "altura1 = 1.58\n",
    "altura2 = 1.65"
   ]
  },
  {
   "cell_type": "code",
   "execution_count": 43,
   "metadata": {},
   "outputs": [
    {
     "name": "stdout",
     "output_type": "stream",
     "text": [
      "3.23\n"
     ]
    }
   ],
   "source": [
    "#Suma de las dos alturas \n",
    "print(altura1 + altura2)"
   ]
  },
  {
   "cell_type": "code",
   "execution_count": 44,
   "metadata": {},
   "outputs": [
    {
     "name": "stdout",
     "output_type": "stream",
     "text": [
      "0.06999999999999984\n",
      "0.06999999999999984\n"
     ]
    }
   ],
   "source": [
    "#Resta entre las alturas opcion1\n",
    "print (abs(altura1 - altura2))\n",
    "\n",
    "\n",
    "#Resta entre las alturas opcion2\n",
    "print (altura2 - altura1)\n"
   ]
  },
  {
   "cell_type": "code",
   "execution_count": 45,
   "metadata": {},
   "outputs": [
    {
     "name": "stdout",
     "output_type": "stream",
     "text": [
      "(0.0, 1.58)\n",
      "1.58\n"
     ]
    }
   ],
   "source": [
    "#Resto de division de dos alturas\n",
    "\n",
    "print (divmod(altura1 , altura2))\n",
    "\n",
    "print (altura1 % altura2)\n"
   ]
  },
  {
   "cell_type": "code",
   "execution_count": 46,
   "metadata": {},
   "outputs": [
    {
     "name": "stdout",
     "output_type": "stream",
     "text": [
      "1.0\n"
     ]
    }
   ],
   "source": [
    "#Division de las altura con redondeo a un decimal\n",
    "\n",
    "print (round (altura1/altura2,1))"
   ]
  },
  {
   "cell_type": "code",
   "execution_count": null,
   "metadata": {},
   "outputs": [],
   "source": [
    "#Funcion input() que le pregunte al usuario su nombre y apellidos. Una vez que tengamos el nombre del usuario:\n",
    "\n",
    "nombre = input(\"Introduce aquí tu nombre por favor\")\n",
    "apellido = input (\"Introduce aquí tu apellido por favor\")"
   ]
  },
  {
   "cell_type": "code",
   "execution_count": null,
   "metadata": {},
   "outputs": [
    {
     "name": "stdout",
     "output_type": "stream",
     "text": [
      "Juan Gomez\n",
      "juan gomez\n",
      "JUAN GOMEZ\n",
      "Juan Gomez\n"
     ]
    }
   ],
   "source": [
    "print (nombre,apellido)\n",
    "\n",
    "datos = (f\"{nombre} {apellido}\")\n",
    "\n",
    "print (datos.lower())\n",
    "print (datos.upper())\n",
    "print (datos.title())\n",
    "\n"
   ]
  },
  {
   "cell_type": "code",
   "execution_count": 66,
   "metadata": {},
   "outputs": [
    {
     "name": "stdout",
     "output_type": "stream",
     "text": [
      "Juan gomez\n"
     ]
    }
   ],
   "source": [
    "print ((nombre.title()) + \" \" + (apellido.lower()))"
   ]
  },
  {
   "cell_type": "code",
   "execution_count": 70,
   "metadata": {},
   "outputs": [
    {
     "name": "stdout",
     "output_type": "stream",
     "text": [
      "mi juego favorito es el ajedrez \n",
      "a\n"
     ]
    }
   ],
   "source": [
    "#Escribe un programa usando la función input()\n",
    "\n",
    "frase = input(\"Indica tu juego preferido\").lower()\n",
    "\n",
    "vocal = input (\"Dime una de las 5 vocales\").lower()\n",
    "\n",
    "\n"
   ]
  },
  {
   "cell_type": "code",
   "execution_count": 71,
   "metadata": {},
   "outputs": [
    {
     "name": "stdout",
     "output_type": "stream",
     "text": [
      "mi juego favorito es el ajedrez a\n"
     ]
    }
   ],
   "source": [
    "print (frase + vocal)"
   ]
  },
  {
   "cell_type": "code",
   "execution_count": null,
   "metadata": {},
   "outputs": [],
   "source": [
    "frase.replace(vocal,vocal.upper())"
   ]
  }
 ],
 "metadata": {
  "kernelspec": {
   "display_name": "base",
   "language": "python",
   "name": "python3"
  },
  "language_info": {
   "codemirror_mode": {
    "name": "ipython",
    "version": 3
   },
   "file_extension": ".py",
   "mimetype": "text/x-python",
   "name": "python",
   "nbconvert_exporter": "python",
   "pygments_lexer": "ipython3",
   "version": "3.12.7"
  }
 },
 "nbformat": 4,
 "nbformat_minor": 2
}
